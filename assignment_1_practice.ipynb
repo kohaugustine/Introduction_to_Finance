{
 "cells": [
  {
   "cell_type": "markdown",
   "metadata": {},
   "source": [
    "Date created: "
   ]
  },
  {
   "cell_type": "markdown",
   "metadata": {},
   "source": [
    "This notebook contains all the computations that I ran to solve questions from Assignment number 1 of the Coursera Introduction to Finance Course. I may not note down my work for every single question, but for those that I find particularly difficult and noteworthy, I will also paste the question here followed by my code statements to solve the question. I will be mainly using functions from a module which I have written that sits in the same folder as where all the notebooks are stored. If the question requires an ad-hoc calculation for which I have no function coded for that, I will express the statements for the calculations directly here in this notebook."
   ]
  },
  {
   "cell_type": "code",
   "execution_count": 1,
   "metadata": {
    "collapsed": false
   },
   "outputs": [],
   "source": [
    "from functions import *\n",
    "# Make use of Decimal datatype to increaste precision for any ad-hoc \n",
    "# calculations not directly using the functions in the functions.py module\n",
    "# to avoid floating point round-off errors\n",
    "from decimal import Decimal, getcontext  \n",
    "getcontext().prec = 20"
   ]
  },
  {
   "cell_type": "markdown",
   "metadata": {},
   "source": [
    "### Question 8"
   ]
  },
  {
   "cell_type": "markdown",
   "metadata": {},
   "source": [
    "#### Ralph knows that he is going to have to replace his roof soon. If he has the roof replaced now, it will cost $\\$$14,000. He could wait 4 years, but it will then cost him $\\$$23,000 . At what rate will these options cost the same? This is also known as the break-even point. (No more than two decimals in the percentage but do not enter the % sign.)"
   ]
  },
  {
   "cell_type": "code",
   "execution_count": null,
   "metadata": {
    "collapsed": true
   },
   "outputs": [],
   "source": []
  },
  {
   "cell_type": "markdown",
   "metadata": {},
   "source": [
    "### Question 9"
   ]
  },
  {
   "cell_type": "markdown",
   "metadata": {},
   "source": [
    "#### Jessica is in the market for a new car. She has narrowed her search down to 2 models. Model A costs $\\$$24,000 and Model B costs $\\$$18,000. With both cars she plans to pay cash and own them for 3 years before trading in for a new car. Her research indicates that the trade in value for Model A after 3 years is 50% of the initial purchase price, while the trade in value for Model B is 25%. Jessica has no emotional attachment to either model and wants to make a strictly financial decision. The interest rate is 6%. For simplicity assume that operating and maintenance costs for the models are identical every year. Which model is the better decision and how much \"cheaper\" is it than the alternative?"
   ]
  },
  {
   "cell_type": "code",
   "execution_count": null,
   "metadata": {
    "collapsed": false
   },
   "outputs": [],
   "source": []
  },
  {
   "cell_type": "markdown",
   "metadata": {},
   "source": [
    "### Question 10"
   ]
  },
  {
   "cell_type": "markdown",
   "metadata": {},
   "source": [
    "#### College tuition has been rising at a rate of 7% per year. Currently the average tuition of a state college is $10,600 per year. Andrea's son Trevor will begin college in 9 years. Andrea's portfolio is making 2% annually. How much does Andrea need to have set aside today/now to pay for 4 years of college for Trevor?"
   ]
  },
  {
   "cell_type": "markdown",
   "metadata": {},
   "source": [
    "So the answer is $70,180.29."
   ]
  },
  {
   "cell_type": "code",
   "execution_count": null,
   "metadata": {
    "collapsed": false
   },
   "outputs": [],
   "source": []
  }
 ],
 "metadata": {
  "kernelspec": {
   "display_name": "Python 3",
   "language": "python",
   "name": "python3"
  },
  "language_info": {
   "codemirror_mode": {
    "name": "ipython",
    "version": 3
   },
   "file_extension": ".py",
   "mimetype": "text/x-python",
   "name": "python",
   "nbconvert_exporter": "python",
   "pygments_lexer": "ipython3",
   "version": "3.5.3"
  }
 },
 "nbformat": 4,
 "nbformat_minor": 0
}
