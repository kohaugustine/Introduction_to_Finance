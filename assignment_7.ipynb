{
 "cells": [
  {
   "cell_type": "markdown",
   "metadata": {},
   "source": [
    "Date started: ???,\n",
    "Date completed: ???"
   ]
  },
  {
   "cell_type": "markdown",
   "metadata": {},
   "source": [
    "This notebook contains all the computations that I ran to solve questions from Assignments number 2 of the Coursera Introduction to Finance Course. I may not note down my work for every single question, but for those that I find particularly difficult and noteworthy, I will also paste the question here followed by my code statements to solve the question. I will be mainly using functions from a module which I have written that sits in the same folder as where all the notebooks are stored. If the question requires an ad-hoc calculation for which I have no function coded for that, I will express the statements for the calculations directly here in this notebook."
   ]
  },
  {
   "cell_type": "markdown",
   "metadata": {},
   "source": [
    "### Question 1"
   ]
  },
  {
   "cell_type": "markdown",
   "metadata": {},
   "source": [
    "Shareholders of Exxon Oil Company face a variety of risks in holding its shares. If the economy falters, people tend to travel less and so there is less demand from the airlines industry for Exxon's fuels. This type of risk that Exxon's shareholders bear is\n",
    "<br/>\n",
    "<br/>\n",
    "systematic/market risk.\n",
    "<br/>\n",
    "specific/idiosyncratic risk."
   ]
  },
  {
   "cell_type": "code",
   "execution_count": null,
   "metadata": {
    "collapsed": false
   },
   "outputs": [],
   "source": []
  },
  {
   "cell_type": "markdown",
   "metadata": {},
   "source": [
    "### Question 2"
   ]
  },
  {
   "cell_type": "markdown",
   "metadata": {},
   "source": [
    "Suppose there are three securities (A, B, and C) to choose from, and next year the economy will be in an expansion, normal, or recession state with probabilities 0.29, 0.34, and 0.37, respectively. The returns (%) on the securities in these states are as follows: Security A {expansion = +27.55, normal = +8.00, recession = +6.00}; Security B {+40.59, +14.00, -19.00}; Security C {+9.50, +9.50, +9.50}. If the investor is risk neutral (means that she does not care/worry about risk), which of these three securities would she buy?\n",
    "<br/>\n",
    "<br/>\n",
    "Security A.\n",
    "<br/>\n",
    "None of them.\n",
    "<br/>\n",
    "Security C.\n",
    "<br/>\n",
    "Security B."
   ]
  },
  {
   "cell_type": "code",
   "execution_count": null,
   "metadata": {
    "collapsed": false
   },
   "outputs": [],
   "source": []
  },
  {
   "cell_type": "markdown",
   "metadata": {},
   "source": [
    "### Question 3"
   ]
  },
  {
   "cell_type": "markdown",
   "metadata": {},
   "source": [
    "Suppose your dear old Grandfather approaches you for investment advice. He knows of your great training in finance and statistics and gives the following instructions: \"I have lived a long time and through many challenges. But the recent financial upheaval, with its ups and downs, is too much for me to bear. Just pick for me a portfolio with the least risk.\" Suppose there are portfolios (A, B, and C) to choose from, and next year the economy will be in an expansion, normal, or recession state with probabilities 0.43, 0.37, and 0.20, respectively. The returns (%) on the securitiies in these states are as follows: Portfolio A {expansion = +16.19, normal = +9.50, recession = +8.00}; Portfolio B {+13.50, +7.50, +4.50}; Portfolio C {+14.00, +10.50, +7.00}. Which investment best fits your grandfather's needs?\n",
    "<br/>\n",
    "<br/>\n",
    "Portfolio C.\n",
    "<br/>\n",
    "Portfolio B.\n",
    "<br/>\n",
    "Portfolio A.\n",
    "<br/>\n",
    "Insufficient information to make the decision."
   ]
  },
  {
   "cell_type": "code",
   "execution_count": null,
   "metadata": {
    "collapsed": false
   },
   "outputs": [],
   "source": []
  },
  {
   "cell_type": "markdown",
   "metadata": {},
   "source": [
    "### Question 4"
   ]
  },
  {
   "cell_type": "markdown",
   "metadata": {},
   "source": [
    "One can easily eliminate the amount of idiosyncratic risk by bundling together any 30 stocks.\n",
    "<br/>\n",
    "<br/>\n",
    "True\n",
    "<br/>\n",
    "False"
   ]
  },
  {
   "cell_type": "code",
   "execution_count": null,
   "metadata": {
    "collapsed": false
   },
   "outputs": [],
   "source": []
  },
  {
   "cell_type": "markdown",
   "metadata": {},
   "source": [
    "### Question 5"
   ]
  },
  {
   "cell_type": "markdown",
   "metadata": {},
   "source": [
    "We often want to find investments that perform well when other parts of our portfolio are struggling. When considering stocks to add to the portfolio, those with a correlation closer to zero with our existing portfolio will most effectively help us diversify.\n",
    "<br/>\n",
    "<br/>\n",
    "True\n",
    "<br/>\n",
    "False"
   ]
  },
  {
   "cell_type": "code",
   "execution_count": null,
   "metadata": {
    "collapsed": false
   },
   "outputs": [],
   "source": []
  },
  {
   "cell_type": "markdown",
   "metadata": {},
   "source": [
    "### Question 6"
   ]
  },
  {
   "cell_type": "markdown",
   "metadata": {},
   "source": [
    "As a CEO you wish to maximize the productivity of your workers. You are thinking about providing your employees with smartphones so they can be readily available to clients and increase sales. However, you are also concerned that your employees are just as likely to download apps that will distract them from their work, leading them to play games and update their social networking sites rather than focus on the job of pleasing clients. To test this you randomly select 6 employees for an experiment. You provide 3 with the new smart phone and the other 3 use their existing technology. The following chart shows their changes in sales. Based on this small sample, what is the correlation in percentage between smartphone and increase in sales? It may help to use the spreadsheet function CORREL to calculate the correlation. {Anthony, Smartphone: No; change in sales 130; Kira, Smartphone Yes; Change in Sales 50; Michael, Smartphone No; Change in Sales 150; Scarlett, Smartphone Yes; Change in Sales 120; Pete, Smartphone No; Change in Sales 40; Angela, Smartphone Yes; Change in Sales 40.} (No more than two decimals in the percentage but do not enter the % sign.)"
   ]
  },
  {
   "cell_type": "code",
   "execution_count": null,
   "metadata": {
    "collapsed": false
   },
   "outputs": [],
   "source": []
  },
  {
   "cell_type": "markdown",
   "metadata": {},
   "source": [
    "### Question 7"
   ]
  },
  {
   "cell_type": "markdown",
   "metadata": {},
   "source": [
    "It is well known that investors generally do not like to bear risk. For two otherwise identical corporate bonds, the one with more idiosyncratic risk should have a price that is\n",
    "<br/>\n",
    "<br/>\n",
    "Higher.\n",
    "<br/>\n",
    "The same."
   ]
  },
  {
   "cell_type": "code",
   "execution_count": null,
   "metadata": {
    "collapsed": false
   },
   "outputs": [],
   "source": []
  },
  {
   "cell_type": "markdown",
   "metadata": {},
   "source": [
    "### Question 8"
   ]
  },
  {
   "cell_type": "markdown",
   "metadata": {},
   "source": [
    "Suppose your client is risk-averse but can invest in only one of the three securities, A, B, or C, in an uncertain world characterized as follows. Next year the economy will be in an expansion, normal, or recession state with probabilities 0.30, 0.43, and 0.27, respectively. The returns (%) on the securitiies in these states are as follows: Security A {expansion = +15.24, normal = +9.50, recession = +7.00}; Security B {+10.00, +7.50, +5.00}; Security C {+13.50, +11.00, +6.50}. Which security can you rule out, that is, you will not advise your client to invest in it?\n",
    "<br/>\n",
    "<br/>\n",
    "None of the securities.\n",
    "<br/>\n",
    "Security B.\n",
    "<br/>\n",
    "Security C.\n",
    "<br/>\n",
    "Security A."
   ]
  },
  {
   "cell_type": "code",
   "execution_count": null,
   "metadata": {
    "collapsed": false
   },
   "outputs": [],
   "source": []
  },
  {
   "cell_type": "markdown",
   "metadata": {},
   "source": [
    "### Question 9"
   ]
  },
  {
   "cell_type": "markdown",
   "metadata": {},
   "source": [
    "You have just taken over as a fund manager at a brokerage firm. Your assistant, Thomas, is briefing you on the current portfolio and states \"We have too much of our portfolio in Alpha. We should probably move some of those funds into Gamma so we can achieve better diversification.\" Is he right? Here is the data on all three stocks. Assume, for convenience, that all three securities do not pay dividends. Alpha, Current Price \\$40.00; Current Weight 87%; Next Year's Price: Expansion \\$49.50, Normal \\$43.00, Recession \\$33.50; Beta, Current Price 27.50; Current Weight 13%; Next Year's Price: Expansion 27.50, Normal 26, Recession 25; Gamma, Current Price \\$24.00; Current Weight 0%; Next Year's Price: Expansion \\$29.70, Normal \\$25.80, Recession \\$20.10.\n",
    "<br/>\n",
    "<br/>\n",
    "Even if the probabilities for different states of economy (expansion, normal and recession) are available one still doesn't have sufficient information to make a definitive statement.\n",
    "<br/>\n",
    "Yes.\n",
    "<br/>\n",
    "No.\n",
    "<br/>\n",
    "Only if the probabilities for different states of economy (expansion, normal and recession) become available would one be able to make a definitive statement."
   ]
  },
  {
   "cell_type": "code",
   "execution_count": 1,
   "metadata": {
    "collapsed": false
   },
   "outputs": [],
   "source": []
  },
  {
   "cell_type": "markdown",
   "metadata": {},
   "source": [
    "### Question 10"
   ]
  },
  {
   "cell_type": "markdown",
   "metadata": {},
   "source": [
    "Suppose there are two mortgage bankers. Banker 1 has two \\$800,000 mortgages to sell. The borrowers live on opposite sides of the country and face an independent probability of default of 6%, with the banker able to salvage 35% of the mortgage value in case of default. Banker 2 also has two $\\800,000 mortgages to sell, but Banker 2's borrowers live on the same street, have the same job security and income. Put differently, the fates and thus solvency of Banker 2's borrowers move in lock step. They have a probability of defaulting of 4%, with the banker able to salvage 35% of the mortgage value in case of default. Both Bankers plan to sell their respective mortgages as a bundle in a mortgage-backed security (MBS) (i.e., as a portfolio). Which of the following is correct?\n",
    "<br/>\n",
    "<br/>\n",
    "Banker 1's MBS has a lower expected return and more risk.\n",
    "<br/>\n",
    "Banker 1's MBS has a higher expected return and less risk.\n",
    "<br/>\n",
    "Banker 2's MBS has a low expected return and more risk.\n",
    "<br/>\n",
    "Banker 2's MBS has a higher expected return and more risk."
   ]
  },
  {
   "cell_type": "code",
   "execution_count": 1,
   "metadata": {
    "collapsed": false
   },
   "outputs": [],
   "source": []
  },
  {
   "cell_type": "code",
   "execution_count": null,
   "metadata": {
    "collapsed": false
   },
   "outputs": [],
   "source": []
  }
 ],
 "metadata": {
  "kernelspec": {
   "display_name": "Python 2",
   "language": "python",
   "name": "python2"
  },
  "language_info": {
   "codemirror_mode": {
    "name": "ipython",
    "version": 2
   },
   "file_extension": ".py",
   "mimetype": "text/x-python",
   "name": "python",
   "nbconvert_exporter": "python",
   "pygments_lexer": "ipython2",
   "version": "2.7.10"
  }
 },
 "nbformat": 4,
 "nbformat_minor": 0
}
