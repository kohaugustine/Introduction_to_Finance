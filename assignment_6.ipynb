{
 "cells": [
  {
   "cell_type": "markdown",
   "metadata": {},
   "source": [
    "Date started: ???,\n",
    "Date completed: ???"
   ]
  },
  {
   "cell_type": "markdown",
   "metadata": {},
   "source": [
    "This notebook contains all the computations that I ran to solve questions from Assignments number 2 of the Coursera Introduction to Finance Course. I may not note down my work for every single question, but for those that I find particularly difficult and noteworthy, I will also paste the question here followed by my code statements to solve the question. I will be mainly using functions from a module which I have written that sits in the same folder as where all the notebooks are stored. If the question requires an ad-hoc calculation for which I have no function coded for that, I will express the statements for the calculations directly here in this notebook."
   ]
  },
  {
   "cell_type": "markdown",
   "metadata": {},
   "source": [
    "### Question 1"
   ]
  },
  {
   "cell_type": "markdown",
   "metadata": {},
   "source": [
    "Stockholders are the owners of the firm and thus entitled to the remaining cash flows after paying off all the claims by bondholders.\n",
    "<br/>\n",
    "<br/>\n",
    "True\n",
    "<br/>\n",
    "False"
   ]
  },
  {
   "cell_type": "code",
   "execution_count": null,
   "metadata": {
    "collapsed": false
   },
   "outputs": [],
   "source": []
  },
  {
   "cell_type": "markdown",
   "metadata": {},
   "source": [
    "### Question 2"
   ]
  },
  {
   "cell_type": "markdown",
   "metadata": {},
   "source": [
    "Becky and Mandy are arguing about the best way to value the rapidly growing MySpaceBook.com. Mandy argues that, since MySpaceBook.com is young and will plow most of its earnings back into the company that the present value of all future earnings represents the best estimate of the stock’s value. Becky disagrees. Who is right?\n",
    "<br/>\n",
    "<br/>\n",
    "Mandy\n",
    "<br/>\n",
    "Becky"
   ]
  },
  {
   "cell_type": "code",
   "execution_count": null,
   "metadata": {
    "collapsed": false
   },
   "outputs": [],
   "source": []
  },
  {
   "cell_type": "markdown",
   "metadata": {},
   "source": [
    "### Question 3"
   ]
  },
  {
   "cell_type": "markdown",
   "metadata": {},
   "source": [
    "(One-period pricing. Recall that since stocks have really long lives, in the video we first imagined owning a stock for only one period. In this simple, yet powerful scenario, today's stock price is the PV of next year's dividend and next year's stock price.) The stock of Alydar Oil, an all-equity firm, is currently trading at \\$46 per share, after just having paid a \\$2.50 per share dividend. The market expects a dividend of \\$3.20 per share to be paid one year from today. If the equity cost of capital (same as discount rate for equity) is 9% for this firm, the expected ex-dividend price (the stock price after the dividend is paid next year) in one year (t = 1) should be closest to:\n",
    "<br/>\n",
    "<br/>\n",
    "\\$46.94\n",
    "<br/>\n",
    "\\$49.33\n",
    "<br/>\n",
    "\\$50.14\n",
    "<br/>\n",
    "\\$47.64"
   ]
  },
  {
   "cell_type": "code",
   "execution_count": null,
   "metadata": {
    "collapsed": false
   },
   "outputs": [],
   "source": []
  },
  {
   "cell_type": "markdown",
   "metadata": {},
   "source": [
    "### Question 4"
   ]
  },
  {
   "cell_type": "markdown",
   "metadata": {},
   "source": [
    "Julia's Jewel Company (JJC) currently has a stock price of \\$51 per share. If JJC's cost of equity capital (same as discount rate for equity) is 19% and the current dividend yield (DIV1/P0) is 6.00%, the expected price per share of the company in one year (t = 1) is closest to?\n",
    "<br/>\n",
    "<br/>\n",
    "\\$57.63\n",
    "<br/>\n",
    "\\$57.67\n",
    "<br/>\n",
    "\\$54.06\n",
    "<br/>\n",
    "\\$60.69"
   ]
  },
  {
   "cell_type": "code",
   "execution_count": null,
   "metadata": {
    "collapsed": false
   },
   "outputs": [],
   "source": []
  },
  {
   "cell_type": "markdown",
   "metadata": {},
   "source": [
    "### Question 5"
   ]
  },
  {
   "cell_type": "markdown",
   "metadata": {},
   "source": [
    "Locked-In Real Estate (LIRE) is preparing for their Initial Public Equity Offering (IPO). With its holdings consisting of rent controlled apartments, and no plans for expanding, LIRE plans to payout all of its earnings as dividends. These dividends amount to \\$3.25 per share, forever. If the expected rate of return is 8%, what is the stock price of LIRE? (Enter just the number in dollars without the \\$ sign or a comma and round off decimals to the closest integer, i.e., rounding \\$30.49 down to \\$30 and rounding \\$30.50 up to \\$31.)\n",
    "Answer for Question 5\n"
   ]
  },
  {
   "cell_type": "code",
   "execution_count": null,
   "metadata": {
    "collapsed": false
   },
   "outputs": [],
   "source": []
  },
  {
   "cell_type": "markdown",
   "metadata": {},
   "source": [
    "### Question 6"
   ]
  },
  {
   "cell_type": "markdown",
   "metadata": {},
   "source": [
    "Investments made from retained earnings on projects with a return on investment (ROI) lower than the required rate of return (also known as the hurdle rate) will lower the stock price.\n",
    "<br/>\n",
    "<br/>\n",
    "False\n",
    "<br/>\n",
    "True"
   ]
  },
  {
   "cell_type": "code",
   "execution_count": 1,
   "metadata": {
    "collapsed": false
   },
   "outputs": [],
   "source": []
  },
  {
   "cell_type": "markdown",
   "metadata": {},
   "source": [
    "### Question 7"
   ]
  },
  {
   "cell_type": "markdown",
   "metadata": {},
   "source": [
    "You are deciding whether to add Bard Publishing to your portfolio, but you are concerned about your projection for their growth rate. Bard's cost of equity capital (the discount rate for equity) is known to be 9% and they just paid a dividend of \\$4.75 per share. When calculating the value of the stock today, you cannot decide if the constant growth rate will be 4.5% or 5.5%. By how much does this seemingly small difference impact your valuation, i.e., the price per share? (Enter just the number in dollars without the \\$ sign or a comma and round off decimals to the closest integer, i.e., rounding \\$30.49 down to \\$30 and rounding \\$30.50 up to \\$31.)"
   ]
  },
  {
   "cell_type": "code",
   "execution_count": 1,
   "metadata": {
    "collapsed": false
   },
   "outputs": [],
   "source": []
  },
  {
   "cell_type": "markdown",
   "metadata": {},
   "source": [
    "### Question 8"
   ]
  },
  {
   "cell_type": "markdown",
   "metadata": {},
   "source": [
    "Dixie Construction is a young firm that is in the process of bidding (and winning) construction contracts. While they are unable to pay any dividends today, once the contracts are awarded and their work begins in earnest, they expect to be able to start paying a dividend of \\$3.00 per share beginning three years from now (t = 3). From that point forward, as they build their reputation and capacity, they expect to be able to increase their dividend 5.75% each year. If Dixie's cost of equity capital is 8.00% (the discount rate for equity), what price per share should their shares trade at today? (Enter just the number in dollars without the \\$ sign or a comma and round off decimals to the closest integer, i.e., rounding \\$30.49 down to \\$30 and rounding \\$30.50 up to \\$31.)"
   ]
  },
  {
   "cell_type": "code",
   "execution_count": 1,
   "metadata": {
    "collapsed": false
   },
   "outputs": [],
   "source": []
  },
  {
   "cell_type": "markdown",
   "metadata": {},
   "source": [
    "### Question 9"
   ]
  },
  {
   "cell_type": "markdown",
   "metadata": {},
   "source": [
    "Viento Windmills is a utility that charges customers for their wind generated electricity. With their current technology, they earn a total of \\$65 million each year to pay out to their 2 million shareholders. While their geographic footprint is fixed and we can't expect the climate to get progressively windier over time, they do have an opportunity to invest in technology that will more efficiently extract the wind energy and thus produce more megawatts to sell to customers. A one-time investment one year from now (t = 1) of \\$37 million for a state of the art lubricant system for the windmills will lead to extra cash flows that stay constant at \\$17 million per year starting the following year (t = 2) and lasting forever. If Viento plans to make the investment and cost of equity capital (the discount rate for equity) is 11.0%, calculate the increase or decrease in the share price of Viento as a result of this decision. Draw time line to understand what is going on. (Enter just the number in dollars without the \\$ sign or a comma and round off decimals to the closest integer, i.e., rounding \\$30.49 down to \\$30 and rounding \\$30.50 up to \\$31.)"
   ]
  },
  {
   "cell_type": "code",
   "execution_count": 1,
   "metadata": {
    "collapsed": false
   },
   "outputs": [],
   "source": []
  },
  {
   "cell_type": "markdown",
   "metadata": {},
   "source": [
    "### Question 10"
   ]
  },
  {
   "cell_type": "markdown",
   "metadata": {},
   "source": [
    "HigherEducation, Inc., a private educational company's share price is \\$130 per share; earnings and dividends are \\$12.20 a share, and the growth rate is zero. They have just announced a new growth strategy whereby the company's earnings would begin growing by 6% per year and remain stable at this new rate. This new growth strategy will require the company to reinvest 40% of their earnings starting at the end of this year (t = 1). What will happen to the price per share of this company? Think carefully, and draw a time line.\n",
    "<br/>\n",
    "<br/>\n",
    "Price will increase by \\$86.27 per share.\n",
    "<br/>\n",
    "Price will remain unchanged.\n",
    "<br/>\n",
    "Price will decrease by \\$86.27 per share.\n",
    "<br/>\n",
    "Insufficient information to determine the price change."
   ]
  },
  {
   "cell_type": "code",
   "execution_count": 1,
   "metadata": {
    "collapsed": false
   },
   "outputs": [],
   "source": []
  },
  {
   "cell_type": "code",
   "execution_count": null,
   "metadata": {
    "collapsed": false
   },
   "outputs": [],
   "source": []
  }
 ],
 "metadata": {
  "kernelspec": {
   "display_name": "Python 2",
   "language": "python",
   "name": "python2"
  },
  "language_info": {
   "codemirror_mode": {
    "name": "ipython",
    "version": 2
   },
   "file_extension": ".py",
   "mimetype": "text/x-python",
   "name": "python",
   "nbconvert_exporter": "python",
   "pygments_lexer": "ipython2",
   "version": "2.7.10"
  }
 },
 "nbformat": 4,
 "nbformat_minor": 0
}
