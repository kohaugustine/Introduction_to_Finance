{
 "cells": [
  {
   "cell_type": "markdown",
   "metadata": {},
   "source": [
    "Date started: ???,\n",
    "Date completed: ???"
   ]
  },
  {
   "cell_type": "markdown",
   "metadata": {},
   "source": [
    "This notebook contains all the computations that I ran to solve questions from Assignments number 2 of the Coursera Introduction to Finance Course. I may not note down my work for every single question, but for those that I find particularly difficult and noteworthy, I will also paste the question here followed by my code statements to solve the question. I will be mainly using functions from a module which I have written that sits in the same folder as where all the notebooks are stored. If the question requires an ad-hoc calculation for which I have no function coded for that, I will express the statements for the calculations directly here in this notebook."
   ]
  },
  {
   "cell_type": "markdown",
   "metadata": {},
   "source": [
    "### Question 1"
   ]
  },
  {
   "cell_type": "markdown",
   "metadata": {},
   "source": [
    "A pure discount (or zero-coupon) government bond is issued today that promises to pay \\$10,000 in 5 years. If the current interest rate on similar bonds is 6%, what is the price of the bond? Recall that the compounding interval for bonds is 6 months.\n",
    "<br/>\n",
    "<br/>\n",
    "\\$6,877.50\n",
    "<br/>\n",
    "\\$5,583.95\n",
    "<br/>\n",
    "\\$7,440.94\n",
    "<br/>\n",
    "\\$8,626.09\n"
   ]
  },
  {
   "cell_type": "code",
   "execution_count": 1,
   "metadata": {
    "collapsed": false
   },
   "outputs": [],
   "source": []
  },
  {
   "cell_type": "markdown",
   "metadata": {},
   "source": [
    "### Question 2"
   ]
  },
  {
   "cell_type": "markdown",
   "metadata": {},
   "source": [
    "For two otherwise identical coupon bonds, the one with the higher rating will have a higher yield to maturity.\n",
    "<br/>\n",
    "<br/>\n",
    "False\n",
    "<br/>\n",
    "True"
   ]
  },
  {
   "cell_type": "code",
   "execution_count": 1,
   "metadata": {
    "collapsed": false
   },
   "outputs": [],
   "source": []
  },
  {
   "cell_type": "markdown",
   "metadata": {},
   "source": [
    "### Question 3"
   ]
  },
  {
   "cell_type": "markdown",
   "metadata": {},
   "source": [
    "To calculate the yield to maturity for semiannual coupon bonds, you need to double the semiannual yield to arrive at the annualized figure.\n",
    "<br/>\n",
    "<br/>\n",
    "True\n",
    "<br/>\n",
    "False"
   ]
  },
  {
   "cell_type": "code",
   "execution_count": 1,
   "metadata": {
    "collapsed": false
   },
   "outputs": [],
   "source": []
  },
  {
   "cell_type": "markdown",
   "metadata": {},
   "source": [
    "### Question 4"
   ]
  },
  {
   "cell_type": "markdown",
   "metadata": {},
   "source": [
    "What is the yield to maturity (YTM) of a zero coupon bond with a face value of \\$1,000, current price of \\$940 and maturity of 9 years? Recall that the compounding interval is 6 months and the YTM, like all interest rates, is reported on an annualized basis. (No more than two decimals in the percentage but do not enter the % sign.)"
   ]
  },
  {
   "cell_type": "code",
   "execution_count": 1,
   "metadata": {
    "collapsed": false
   },
   "outputs": [],
   "source": []
  },
  {
   "cell_type": "markdown",
   "metadata": {},
   "source": [
    "### Question 5"
   ]
  },
  {
   "cell_type": "markdown",
   "metadata": {},
   "source": [
    "The government in the U.S. issues zero-coupon bonds up to one year maturity, but STRIPS are \"manufactured\" zero-coupon bonds with maturities up to 30 years. So, for example, a financial institution could first buy 500 30-year coupon bonds issued by the government that each pay \\$2 of coupon every six months. The institution could then sell the combined coupons totaling \\$1,000 as a separate zero-coupon bond for each maturity ranging from 6 months up to 30 years. This is a financial innovation that occurred decades ago in the face of volatile inflation and an increased demand for long-term zero coupon government bonds. Given this information, analyze the following statement: \"The price of a long-term STRIP will typically be lower than that of a short-term STRIP.\"\n",
    "<br/>\n",
    "<br/>\n",
    "True\n",
    "<br/>\n",
    "False"
   ]
  },
  {
   "cell_type": "code",
   "execution_count": 1,
   "metadata": {
    "collapsed": false
   },
   "outputs": [],
   "source": []
  },
  {
   "cell_type": "markdown",
   "metadata": {},
   "source": [
    "### Question 6"
   ]
  },
  {
   "cell_type": "markdown",
   "metadata": {},
   "source": [
    "Suppose Wolverine Steel Company wishes to issue a \\$100,000 bond with a maturity of 8 years to raise \\$81,110. The market requires a yield to maturity (YTM) of 11.5% for this company's borrowing/debt. How much coupon will the company have to pay every six months? (Enter just the number in dollars without the \\$ sign or a comma and round off decimals to the closest integer, i.e., rounding \\$30.49 down to \\$30 and rounding \\$30.50 up to $31.)"
   ]
  },
  {
   "cell_type": "code",
   "execution_count": 1,
   "metadata": {
    "collapsed": false
   },
   "outputs": [],
   "source": []
  },
  {
   "cell_type": "markdown",
   "metadata": {},
   "source": [
    "### Question 7"
   ]
  },
  {
   "cell_type": "markdown",
   "metadata": {},
   "source": [
    "The prices of a bond with a higher fixed coupon rate will be less volatile than those of an otherwise identical bond with a lower fixed coupon rate.\n",
    "<br/>\n",
    "<br/>\n",
    "True\n",
    "<br/>\n",
    "False"
   ]
  },
  {
   "cell_type": "code",
   "execution_count": 1,
   "metadata": {
    "collapsed": false
   },
   "outputs": [],
   "source": []
  },
  {
   "cell_type": "markdown",
   "metadata": {},
   "source": [
    "### Question 8"
   ]
  },
  {
   "cell_type": "markdown",
   "metadata": {},
   "source": [
    "Three years ago, you invested in a zero coupon bond with a face value of \\$1,000 that had a YTM of 11.5% and 5 years left until maturity. Today, that bond has a YTM of 6.0%. Due to a financial emergency, you are forced to sell the bond. What is your capital gain/loss, which is defined as the dollar gain/loss relative to the price of the bond when you bought it? Recall that the compounding interval is 6 months and the YTM, like all interest rates, is reported on an annualized basis. (Enter just the number in dollars without the \\$ sign or a comma and round off decimals to the closest integer, i.e., rounding \\$30.49 down to \\$30 and rounding \\$30.50 up to $31.)"
   ]
  },
  {
   "cell_type": "code",
   "execution_count": 1,
   "metadata": {
    "collapsed": false
   },
   "outputs": [],
   "source": []
  },
  {
   "cell_type": "markdown",
   "metadata": {},
   "source": [
    "### Question 9"
   ]
  },
  {
   "cell_type": "markdown",
   "metadata": {},
   "source": [
    "Hard Spun Industries (HSI) has a project that it expects will produce a cash flow of \\$3.1 million in 11 years. To finance the project, the company needs to borrow \\$2.3 million today. The project will also produce intermediate cash flows of \\$230,000 per year that HSI can use to service coupon payments of \\$115,000 every six months. Based on the risk of this investment, market participants will require a 9.5% yield. If HSI wishes a maturity of 11 years (matching the arrival of the lump sum cash flow), what does the face value of the bond have to be? Recall that the compounding interval is 6 months and the YTM, like all interest rates, is reported on an annualized basis. (Enter just the number in dollars without the \\$ sign or a comma and round off decimals to the closest integer, i.e., rounding \\$30.49 down to \\$30 and rounding \\$30.50 up to \\$31.)"
   ]
  },
  {
   "cell_type": "code",
   "execution_count": 1,
   "metadata": {
    "collapsed": false
   },
   "outputs": [],
   "source": []
  },
  {
   "cell_type": "markdown",
   "metadata": {},
   "source": [
    "### Question 10"
   ]
  },
  {
   "cell_type": "markdown",
   "metadata": {},
   "source": [
    "Five years ago, Highland, Inc. issued a corporate bond with an annual coupon of \\$5,500, paid at the rate of \\$2,750 every six months, and a maturity of 14 years. The par (face) value of the bond is \\$1,000,000. Recently, however, the company has run into some financial difficulty and has restructured its obligations. Today's coupon payment has already been paid, but the remaining coupon payments will be postponed until maturity. The postponed payments will accrue interest at an annual rate of 6.5% per year and will be paid as a lump sum amount at maturity along with the face value. The discount rate on the renegotiated bonds, now considered much riskier, has gone from 8.5% prior to the renegotiations to 12.5% per annum with the announcement of the restructuring. What is the price at which the new renegotiated bond should be selling today? Recall that the compounding interval is 6 months and the YTM, like all interest rates, is reported on an annualized basis. (Enter just the number in dollars without the \\$ sign or a comma and round off decimals to the closest integer, i.e., rounding \\$30.49 down to \\$30 and rounding \\$30.50 up to \\$31.)"
   ]
  },
  {
   "cell_type": "code",
   "execution_count": 1,
   "metadata": {
    "collapsed": false
   },
   "outputs": [],
   "source": []
  },
  {
   "cell_type": "code",
   "execution_count": null,
   "metadata": {
    "collapsed": false
   },
   "outputs": [],
   "source": []
  }
 ],
 "metadata": {
  "kernelspec": {
   "display_name": "Python 3",
   "language": "python",
   "name": "python3"
  },
  "language_info": {
   "codemirror_mode": {
    "name": "ipython",
    "version": 3
   },
   "file_extension": ".py",
   "mimetype": "text/x-python",
   "name": "python",
   "nbconvert_exporter": "python",
   "pygments_lexer": "ipython3",
   "version": "3.5.3"
  }
 },
 "nbformat": 4,
 "nbformat_minor": 0
}
