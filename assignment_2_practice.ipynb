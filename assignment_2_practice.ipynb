{
 "cells": [
  {
   "cell_type": "markdown",
   "metadata": {},
   "source": [
    "Date started: \n",
    "Date completed:"
   ]
  },
  {
   "cell_type": "markdown",
   "metadata": {},
   "source": [
    "This notebook contains all the computations that I ran to solve questions from Assignments number 2 of the Coursera Introduction to Finance Course. I may not note down my work for every single question, but for those that I find particularly difficult and noteworthy, I will also paste the question here followed by my code statements to solve the question. I will be mainly using functions from a module which I have written that sits in the same folder as where all the notebooks are stored. If the question requires an ad-hoc calculation for which I have no function coded for that, I will express the statements for the calculations directly here in this notebook."
   ]
  },
  {
   "cell_type": "code",
   "execution_count": 1,
   "metadata": {
    "collapsed": false
   },
   "outputs": [],
   "source": [
    "from functions import *\n",
    "from decimal import Decimal, getcontext  \n",
    "getcontext().prec = 20"
   ]
  },
  {
   "cell_type": "markdown",
   "metadata": {},
   "source": [
    "### Question 1"
   ]
  },
  {
   "cell_type": "markdown",
   "metadata": {},
   "source": [
    "#### Carlos goes to the bank to take out a personal loan. The stated annual interest rate is 6%, but interest is compounded semi-annually and he will make monthly payments. What is the EAR?"
   ]
  },
  {
   "cell_type": "code",
   "execution_count": null,
   "metadata": {
    "collapsed": false
   },
   "outputs": [],
   "source": []
  },
  {
   "cell_type": "markdown",
   "metadata": {},
   "source": [
    "### Question 5"
   ]
  },
  {
   "cell_type": "markdown",
   "metadata": {},
   "source": [
    "#### Huiling owns a rental property on Main street, but she is considering selling the property to another real estate investor. In preparation for negotiating a price, Hueling wants to know the value of the property. The Net Operating Income (NOI) is the cash flow from real estate and the Cap Rate is the rate, where NOI is rental revenue less all expenses except loan servicing. The property has an NOI of $\\$$11,000 per year. The local real estate market has a cap rate of 7%. What is a fair price for the property assuming that the building's life is 35 years? (Enter just the number in dollars without the $ sign or a comma and round off decimals.)"
   ]
  },
  {
   "cell_type": "code",
   "execution_count": null,
   "metadata": {
    "collapsed": true
   },
   "outputs": [],
   "source": []
  },
  {
   "cell_type": "markdown",
   "metadata": {},
   "source": [
    "### Question 6"
   ]
  },
  {
   "cell_type": "markdown",
   "metadata": {},
   "source": [
    "#### Melanie and Stephen Jackson are purchasing their first house. The house costs $210,000. They have put a 15% down payment (that is, an amount that banks should require you to pay out-of-pocket), but will therefore finance the rest. They are considering a fixed rate 30-year mortgage at a 5.75% APR with monthly payments. How much will the Jacksons' first monthly payment be?"
   ]
  },
  {
   "cell_type": "code",
   "execution_count": null,
   "metadata": {
    "collapsed": false
   },
   "outputs": [],
   "source": []
  },
  {
   "cell_type": "markdown",
   "metadata": {},
   "source": [
    "### Question 8"
   ]
  },
  {
   "cell_type": "markdown",
   "metadata": {},
   "source": [
    "#### Two years ago Abilia purchased a $\\$$13,000 car; she paid $2,500 down and borrowed the rest. She took a fixed rate 60-month installment loan at a stated rate of 7.0% per year. Interest rates have fallen during the last two years and she can refinance her car by borrowing the amount she still owes on the car at a new fixed rate of 4% per year for 3 years. Should Abilia refinance her loan? How much will she save per month for the remainder of the loan life if she decides to refinance?"
   ]
  },
  {
   "cell_type": "code",
   "execution_count": 2,
   "metadata": {
    "collapsed": false
   },
   "outputs": [
    {
     "ename": "SyntaxError",
     "evalue": "Missing parentheses in call to 'print' (<ipython-input-2-53aa94fbec3e>, line 1)",
     "output_type": "error",
     "traceback": [
      "\u001b[0;36m  File \u001b[0;32m\"<ipython-input-2-53aa94fbec3e>\"\u001b[0;36m, line \u001b[0;32m1\u001b[0m\n\u001b[0;31m    print pmt_refinance_month - pmt_original_month\u001b[0m\n\u001b[0m                            ^\u001b[0m\n\u001b[0;31mSyntaxError\u001b[0m\u001b[0;31m:\u001b[0m Missing parentheses in call to 'print'\n"
     ]
    }
   ],
   "source": []
  },
  {
   "cell_type": "markdown",
   "metadata": {},
   "source": [
    "### Question 9"
   ]
  },
  {
   "cell_type": "markdown",
   "metadata": {},
   "source": [
    "#### You have been living in the house you bought 5 years ago for $\\$$300,000. At that time, you took out a loan for 80% of the house at a fixed rate 20-year loan at an annual stated rate of 9.0%. You have just paid off the 60th monthly payment. Interest rates have meanwhile dropped steadily to 3.5% per year, and you think it is finally time to refinance the remaining balance. But there is a catch. The fee to refinance your loan is $4,500. Should you refinance the remaining balance? How much would you save/lose if you decided to refinance?"
   ]
  },
  {
   "cell_type": "code",
   "execution_count": null,
   "metadata": {
    "collapsed": false
   },
   "outputs": [],
   "source": []
  },
  {
   "cell_type": "markdown",
   "metadata": {},
   "source": [
    "### Question 10"
   ]
  },
  {
   "cell_type": "markdown",
   "metadata": {},
   "source": [
    "#### You are interested in a new Ford Taurus. After visiting your Ford dealer, doing your research on the best leases available, you have three options. (i) Purchase the car for cash and receive a $\\$$1,900 cash rebate from Dealer A. The price of the car is $\\$$19,000. (ii) Lease the car from Dealer B. Under this option, you pay the dealer $\\$$550 now and $\\$$225 a month for each of the next 36 months (the first $\\$$225 payment occurs 1 month from today). After 36 months you may buy the car for $\\$$10,900. (iii) Purchase the car from Dealer C who will lend you the entire purchase price of the car for a zero interest 36-month loan with monthly payments. The car price is $\\$$19,000. Suppose the market interest rate is 4%. What is the net cost today of the cheapest option? (Enter just the number in dollars without the $ sign or a comma and round off decimals.)"
   ]
  },
  {
   "cell_type": "code",
   "execution_count": null,
   "metadata": {
    "collapsed": true
   },
   "outputs": [],
   "source": []
  }
 ],
 "metadata": {
  "kernelspec": {
   "display_name": "Python 3",
   "language": "python",
   "name": "python3"
  },
  "language_info": {
   "codemirror_mode": {
    "name": "ipython",
    "version": 3
   },
   "file_extension": ".py",
   "mimetype": "text/x-python",
   "name": "python",
   "nbconvert_exporter": "python",
   "pygments_lexer": "ipython3",
   "version": "3.5.3"
  }
 },
 "nbformat": 4,
 "nbformat_minor": 0
}
