{
 "cells": [
  {
   "cell_type": "markdown",
   "metadata": {},
   "source": [
    "Date created: 28 Jun 2015"
   ]
  },
  {
   "cell_type": "markdown",
   "metadata": {},
   "source": [
    "This notebook contains all the computations that I ran to solve questions from Assignment number 1 of the Coursera Introduction to Finance Course. I may not note down my work for every single question, but for those that I find particularly difficult and noteworthy, I will also paste the question here followed by my code statements to solve the question. I will be mainly using functions from a module which I have written that sits in the same folder as where all the notebooks are stored. If the question requires an ad-hoc calculation for which I have no function coded for that, I will express the statements for the calculations directly here in this notebook."
   ]
  },
  {
   "cell_type": "code",
   "execution_count": 12,
   "metadata": {
    "collapsed": false
   },
   "outputs": [],
   "source": [
    "from functions import *\n",
    "# Make use of Decimal datatype to increaste precision for any ad-hoc \n",
    "# calculations not directly using the functions in the functions.py module\n",
    "# to avoid floating point round-off errors\n",
    "from decimal import Decimal, getcontext  \n",
    "getcontext().prec = 20"
   ]
  },
  {
   "cell_type": "markdown",
   "metadata": {},
   "source": [
    "### Question 8"
   ]
  },
  {
   "cell_type": "markdown",
   "metadata": {},
   "source": [
    "#### Ralph knows that he is going to have to replace his roof soon. If he has the roof replaced now, it will cost $\\$$14,000. He could wait 4 years, but it will then cost him $\\$$23,000 . At what rate will these options cost the same? This is also known as the break-even point. (No more than two decimals in the percentage but do not enter the % sign.)"
   ]
  },
  {
   "cell_type": "markdown",
   "metadata": {},
   "source": [
    "I faced some difficulty here until I consulted the forums. To understand and ultimately solve this question, I must recall lecture number 1.4, where the Prof makes the point that comparisons of values should never be made across different time points. In this problem here we are faced with two different timepoints, with the first option at $\\$$14,000 being now ($T=0$) and the second option at $\\$$23,000 being 4 years later ($T=4$). When the question asked for the break-even point, it was simply asking us to assume that the cost to Ralph in replacing his roof would have been the 'same' both times whether now or 4 years later, and in order for this assertion to hold, there must be a fixed value for interest rate $r$ that would cause either (1) that $\\$$14,000 at $T=0$ would equal to $\\$$23,000 at $T=4$ (ie. 4 years later), or (2) the other way round, that $\\$$23,000 at $T=4$ would equal to $\\$$14,000 at $T=0$ (ie. 4 years earlier). After all, the reason why costs would change over time is simply due to interests, at the cost of replacing the roof at any arbitrary point in the future should be accepted to be the same as the cost right now, if the interest rate is fixed. Remember that here the Professor is considering a very simple scenario, with no cash flows, such as income streams or losses in between. So my confusion at the start was due to my lack of consideration for the different times that the costs were stated for. "
   ]
  },
  {
   "cell_type": "markdown",
   "metadata": {},
   "source": [
    "Solving this question can be done by either compunding $\\$$14,000 at $T=0$ four years forward to $T=4$, or discounting $\\$$23,000 at $T=4$ four years backward to $T=0$."
   ]
  },
  {
   "cell_type": "markdown",
   "metadata": {},
   "source": [
    "$$FV = (1 + r)^n * PV$$"
   ]
  },
  {
   "cell_type": "markdown",
   "metadata": {},
   "source": [
    "$$ 23000 = (1 + r)^4 * 14000 $$"
   ]
  },
  {
   "cell_type": "markdown",
   "metadata": {},
   "source": [
    "$$ r = \\left(\\frac{23000}{14000}\\right)^{1/4} - 1 $$"
   ]
  },
  {
   "cell_type": "code",
   "execution_count": 13,
   "metadata": {
    "collapsed": false
   },
   "outputs": [
    {
     "name": "stdout",
     "output_type": "stream",
     "text": [
      "13.213951831181632080\n"
     ]
    }
   ],
   "source": [
    "r = (Decimal(23000)/Decimal(14000))**(Decimal(1)/Decimal(4)) - Decimal(1)\n",
    "# Now we need to convert interest rate to a percentage\n",
    "r = r*100\n",
    "print(r)"
   ]
  },
  {
   "cell_type": "markdown",
   "metadata": {},
   "source": [
    "And so we have our solution $$r = 13.21\\% $$"
   ]
  },
  {
   "cell_type": "markdown",
   "metadata": {},
   "source": [
    "### Question 9"
   ]
  },
  {
   "cell_type": "markdown",
   "metadata": {},
   "source": [
    "#### Jessica is in the market for a new car. She has narrowed her search down to 2 models. Model A costs $\\$$24,000 and Model B costs $\\$$18,000. With both cars she plans to pay cash and own them for 3 years before trading in for a new car. Her research indicates that the trade in value for Model A after 3 years is 50% of the initial purchase price, while the trade in value for Model B is 25%. Jessica has no emotional attachment to either model and wants to make a strictly financial decision. The interest rate is 6%. For simplicity assume that operating and maintenance costs for the models are identical every year. Which model is the better decision and how much \"cheaper\" is it than the alternative?"
   ]
  },
  {
   "cell_type": "markdown",
   "metadata": {},
   "source": [
    "Firstly, we need to clarify the meaning of trade in value to be the value that the car dealer will give to Jessica for her old car that she can put towards making her new purchase. So actually, the trade in value really isn't determined by the interest rate of 6% that was given in this question; it is an independent value that the dealer gives based on his estimation of the depreciation of the car over the period of 3 years. However, the interest rate comes into the picture when we want to figure out the $PV$ value of the car based on the trade in valuation. We need to figure out two values first for each car before we can compute our answer: (1) the trade in value, which is can be found by taking the appropriate percentage from the original model cost as stated in the question, and (2) the discounted value of the car at the end of three years based on the interest, which is essentially finding the $PV$ of the car when the interest rate $r=6\\%$, knowing that $FV$ is the value in (1). Having found out the $PV$ of the car based on trade in valuation at the future, we can easily subtract the cost of each car option (as given straightforwardly in the question) with this $PV$ value, and the car option with the smallest difference is the cheaper option. \n",
    "About why we want to figure out things in $PV$ terms rather than $FV$, here are some nice responses on forums to help me clarify:"
   ]
  },
  {
   "cell_type": "markdown",
   "metadata": {},
   "source": [
    "\"There is no obvious reason why PV is required and not FV - both seem equally plausible. In the following weeks, you will be getting used to expressing things as PV rather than FV, just because this is the most logical point in time to use if there are various payments at various times involved, and because it is the moment when you are making the decision.\""
   ]
  },
  {
   "cell_type": "markdown",
   "metadata": {},
   "source": [
    "\" If you read the question states \"With both cars she plans to pay cash and own them for 3 years before trading in for a new car.\" The keyword here is \"pay cash\" which implies that Jessica is buying the car at today's value of money. Naturally when we pay cash today we want to understand how much would we gain/lose in today's value i.e. PV.  Also whatever money we save today we  could earn interest on that money in a bank or invested in a stock/bond at an interest rate different than interest rate specified. \""
   ]
  },
  {
   "cell_type": "markdown",
   "metadata": {},
   "source": [
    "Thinking through this, I guess it really all makes sense. Becasue having already known the cost that she would need to pay for each car option, what Jessica is trying to do is to really figure out how much each option is really valued by the dealers, and this valuation by an external party, the dealer, matters to her because she wants to sell/trade in her car with them in the future ie. 3 years later. Since this dealer's valuation at end of 3 years is an $FV$, we need to convert it to $PV$ given the interest rate. We can regard Jessica's goal to be to find the car model that *minimizes the difference* between __the price (cost) of the model that she would have to pay for right now__, and __the dealer's valuation for that model in $PV$ terms__. This is because the option that gives the minimum is the option for which she would be making the least losses on. "
   ]
  },
  {
   "cell_type": "markdown",
   "metadata": {},
   "source": [
    "Lastly, to clarify the meaning of depreciation, I posted a question on the forum to ask if it has any relationship with discounting (or compounding for that matter), and whether it has got anything to do with interest. One major confusion I had with the question was between the depreciated trade in value and the interest rate. I just didn't know what to make out of the question at first and erroneously thought that the 6% interest rate given in the question was the rate at which the cars depreciated to give rise to the lower trade in values. Anyways I got over that, and so here's the explanation on the meaning of depreciation from the Community TA:"
   ]
  },
  {
   "cell_type": "markdown",
   "metadata": {},
   "source": [
    "\"You are correct that the value at tradein  of the car is less than the purchase price and that is due to depreciation. However this has nothing to do with discounting. Whenever an asset is bought and used,  it has an expected lifetime.As the life is used up the value of the asset decreases until ultimately it can become almost worthless. This process is called depreciation. The rate at which depreciation happens is dependant on many issues which is why the values are given in the question, rather than expecting you to calculate them.\""
   ]
  },
  {
   "cell_type": "code",
   "execution_count": 14,
   "metadata": {
    "collapsed": false
   },
   "outputs": [
    {
     "name": "stdout",
     "output_type": "stream",
     "text": [
      "13924.568603612378003\n",
      "14221.713226354641751\n"
     ]
    }
   ],
   "source": [
    "# First, find the trade in value of each model at end of 3 years, FV terms\n",
    "fv_tradein_A = Decimal(24000*0.50)\n",
    "fv_tradein_B = Decimal(18000*0.25)\n",
    "\n",
    "# Next, find the trade in values in current time, PV terms\n",
    "pv_tradein_A = present_value(r = 6, n = 3, fv = fv_tradein_A)\n",
    "pv_tradein_B = present_value(r = 6, n = 3, fv = fv_tradein_B)\n",
    "\n",
    "# Compute the difference with current car prices to find the cheapest option\n",
    "net_cost_A = 24000 - pv_tradein_A\n",
    "net_cost_B = 18000 - pv_tradein_B\n",
    "\n",
    "print(net_cost_A)\n",
    "print(net_cost_B)"
   ]
  },
  {
   "cell_type": "markdown",
   "metadata": {},
   "source": [
    "So clearly model A has the lowest net cost and is the better option, and to answer the question directly, the model A is cheaper than B by the following amount:"
   ]
  },
  {
   "cell_type": "code",
   "execution_count": 15,
   "metadata": {
    "collapsed": false
   },
   "outputs": [
    {
     "name": "stdout",
     "output_type": "stream",
     "text": [
      "297.144622742263748\n"
     ]
    }
   ],
   "source": [
    "print(net_cost_B - net_cost_A)"
   ]
  },
  {
   "cell_type": "markdown",
   "metadata": {},
   "source": [
    "### Question 10"
   ]
  },
  {
   "cell_type": "markdown",
   "metadata": {},
   "source": [
    "#### College tuition has been rising at a rate of 7% per year. Currently the average tuition of a state college is $10,600 per year. Andrea's son Trevor will begin college in 9 years. Andrea's portfolio is making 2% annually. How much does Andrea need to have set aside today/now to pay for 4 years of college for Trevor?"
   ]
  },
  {
   "cell_type": "markdown",
   "metadata": {},
   "source": [
    "A few points worth noting. Initially I tried this question without realizing that we need to add up the cost of college paid each year. That means that although the cost of college is rising each year up at rate of 7% from a starting cost of $\\$$10,600, the total cost of college is not equal to the future value at the final year obtained by directly applying the formula, but rather, the sum of each year of the cost. However, indeed we should compute the cost of college each year using the formula directly. And because college fees are due at start of each year, the first payment of 10600 has to be made at $n=0$. "
   ]
  },
  {
   "cell_type": "markdown",
   "metadata": {},
   "source": [
    "For me personally, this question really drove home the point on the importance of truly understanding $PV$. Firstly, recognize that this is a $PV$ question since it is asking me for the cost that Andrea will have to pay today, right now in present time. Since college is 4 years, Andrea will have to pay a sum equal to these 4 years of college tuition, but at their $PV$ values obtained using Andrea's portfolio rate of 2%, because that is the rate he is earning on his investment returns. To begin, we must find the $FV$ for each year of college, remembering that the first college year should be starting at $n=15$ since by convention we take current time to be $n=0$. Also note that because Trevor's will only begin college in 9 years, 9 years from now will be his 1st year of college."
   ]
  },
  {
   "cell_type": "markdown",
   "metadata": {},
   "source": [
    "##### Here I want to insert a timeline, but can't figure out how.... anyways the appropriate timeline for this question is one that goes from n = 0 to n = 13, with point n =9 being the year Trevor starts college. "
   ]
  },
  {
   "cell_type": "markdown",
   "metadata": {},
   "source": [
    "Since $FV = PV * (1+r)^n$, and $PV$ of college tuition is given as $\\$$10,600 (ie. that is value of college tuition at $n=0$), to find the prices at each year of study, with $r=7\\%$, that Trevor will be in, we have the following:\n",
    "<br \\>\n",
    "$FV_{9} = 10600 * (1 + 7\\%)^{9}$\n",
    "<br />\n",
    "$FV_{10} = 10600 * (1 + 7\\%)^{10}$\n",
    "<br />\n",
    "$FV_{11} = 10600 * (1 + 7\\%)^{11}$\n",
    "<br />\n",
    "$FV_{12} = 10600 * (1 + 7\\%)^{12}$\n",
    "<br />\n",
    "However, Andrea is only gaining from his investing at rate of 2% so must revert back each of the $FV$ values calculated above back to present time ($n=0$ on the timeline) $PV$ values using the relation $PV = \\frac{FV}{(1 + r)^n}$ with that corresponding portfolio interest rate:\n",
    "<br />\n",
    "$PV_{9} = \\frac{FV_9}{(1 + 2\\%)^9}$\n",
    "<br />\n",
    "$PV_{10} = \\frac{FV_{10}}{(1 + 2\\%)^{10}}$\n",
    "<br />\n",
    "$PV_{11} = \\frac{FV_{11}}{(1 + 2\\%)^{11}}$\n",
    "<br />\n",
    "$PV_{12} = \\frac{FV_{12}}{(1 + 2\\%)^{12}}$\n",
    "<br />\n",
    "And the the answer is just the sum of all these $PV$ values to get what Andrea needs right now."
   ]
  },
  {
   "cell_type": "markdown",
   "metadata": {},
   "source": [
    "Note that I should not be taking the sum of all the $FV$ values $FV_9$ to $FV_{12}$, then discounting/reverting that sum back to a single $PV$ value and treating that as my answer! I have to revert each of the $FV$ to present one by one. If I were to teverting the sum, that would actually mean that I am comparing the values across time directly without accounting for the discounting/compounding, thereby violating a fundamental concept in time and interest!"
   ]
  },
  {
   "cell_type": "code",
   "execution_count": 16,
   "metadata": {
    "collapsed": false
   },
   "outputs": [
    {
     "name": "stdout",
     "output_type": "stream",
     "text": [
      "70180.289461082117989\n"
     ]
    }
   ],
   "source": [
    "# Calculating the individual PV values for each year of college\n",
    "pv_each_col_year = []\n",
    "\n",
    "for i in range(9, 13):\n",
    "    # New college tuition at the ith year \n",
    "    fv = future_value(r=7, n=i, pv=10600)\n",
    "    # Already knowing what college tuition will cost at the ith year, \n",
    "    # how much then will it cost Andrea to pay it TODAY with his \n",
    "    # investments giving him 2% interest\n",
    "    pv = present_value(r = 2, n = i, fv = fv)\n",
    "    pv_each_col_year.append(pv)\n",
    "    \n",
    "print(sum(pv_each_col_year))"
   ]
  },
  {
   "cell_type": "markdown",
   "metadata": {},
   "source": [
    "So the answer is $70,180.29."
   ]
  },
  {
   "cell_type": "code",
   "execution_count": null,
   "metadata": {
    "collapsed": false
   },
   "outputs": [],
   "source": []
  }
 ],
 "metadata": {
  "kernelspec": {
   "display_name": "Python 3",
   "language": "python",
   "name": "python3"
  },
  "language_info": {
   "codemirror_mode": {
    "name": "ipython",
    "version": 3
   },
   "file_extension": ".py",
   "mimetype": "text/x-python",
   "name": "python",
   "nbconvert_exporter": "python",
   "pygments_lexer": "ipython3",
   "version": "3.5.3"
  }
 },
 "nbformat": 4,
 "nbformat_minor": 0
}
