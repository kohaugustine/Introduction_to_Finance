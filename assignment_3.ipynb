{
 "cells": [
  {
   "cell_type": "markdown",
   "metadata": {},
   "source": [
    "Date started: ???,\n",
    "Date completed: ???"
   ]
  },
  {
   "cell_type": "markdown",
   "metadata": {},
   "source": [
    "This notebook contains all the computations that I ran to solve questions from Assignments number 2 of the Coursera Introduction to Finance Course. I may not note down my work for every single question, but for those that I find particularly difficult and noteworthy, I will also paste the question here followed by my code statements to solve the question. I will be mainly using functions from a module which I have written that sits in the same folder as where all the notebooks are stored. If the question requires an ad-hoc calculation for which I have no function coded for that, I will express the statements for the calculations directly here in this notebook."
   ]
  },
  {
   "cell_type": "markdown",
   "metadata": {},
   "source": [
    "### Question 1"
   ]
  },
  {
   "cell_type": "markdown",
   "metadata": {},
   "source": [
    "#### Sachin has asked his flat mate Jason for a $\\$$450 loan to cover a portion of his rent and utility costs. Sachin proposes repaying the loan with $\\$$375 from each of his next two financial aid disbursements, the first 4 months from now and the second 13 months from now. Jason's alternative is to earn 5% annually in his money market account. Assume there is no risk of default, and that compounding is monthly. What is the NPV of the loan from Jason's perspective? (Enter just the number in dollars without the $ sign or a comma and round off decimals.)"
   ]
  },
  {
   "cell_type": "code",
   "execution_count": 0,
   "metadata": {
    "collapsed": false
   },
   "outputs": [],
   "source": []
  },
  {
   "cell_type": "markdown",
   "metadata": {},
   "source": [
    "### Question 2"
   ]
  },
  {
   "cell_type": "markdown",
   "metadata": {},
   "source": [
    "#### Juanita has an opportunity to invest in her friend's clothing store. The initial investment is $\\$$10,600 and the expected annual cashflows thereafter are as follows: [$\\$$400; $\\$$500; $\\$$1,400; $\\$$2,500; $\\$$2,500; $\\$$4,000; $\\$$4,000]. What is Juanita's IRR on this investment? (No more than two decimals in the percentage but do not enter the % sign.)"
   ]
  },
  {
   "cell_type": "code",
   "execution_count": 0,
   "metadata": {
    "collapsed": false
   },
   "outputs": [],
   "source": []
  },
  {
   "cell_type": "markdown",
   "metadata": {},
   "source": [
    "### Question 3"
   ]
  },
  {
   "cell_type": "markdown",
   "metadata": {},
   "source": [
    "#### Fabrice is looking to buy a new plug-in hybrid vehicle. The purchase price is $\\$$11,000 more than a similar conventional model. However, he will receive a $\\$$4,900 federal tax credit that he will realize at the end of the year. He estimates that he will save $\\$$1,300 per year in gas over the conventional model; these cash outflows can be assumed to occur at the end of the year. The cost of capital (or interest rate) for Fabrice is 6%. How long will Fabrice have to own the vehicle to justify the additional expense over the conventional model? In other words, what is the DISCOUNTED payback period in years? Discount future cash flows before calculating payback rounded UP to a whole year. (Enter just the number without comma and round off decimals.)"
   ]
  },
  {
   "cell_type": "code",
   "execution_count": 0,
   "metadata": {
    "collapsed": false
   },
   "outputs": [],
   "source": []
  },
  {
   "cell_type": "markdown",
   "metadata": {},
   "source": [
    "### Question 4"
   ]
  },
  {
   "cell_type": "markdown",
   "metadata": {},
   "source": [
    "#### In high school Jeff often made money in the summer by mowing lawns in the neighborhood. He just finished his freshman year of college and, after taking a Business 101 class, he has some ideas about how to scale up his lawn mowing operation. Previously, he had used his father's push mower, but he is thinking about getting a riding mower that will save time and allow him to do more lawns. He found a used, zero turn, riding mower on Craigslist for $\\$$1,400. He will also need a trailer to pull the mower behind his pickup; that will cost him an additional $\\$$500. With the new mower he can take on an additional 23 lawns per week at an average cash inflow of $\\$$22 per lawn he will receive at the end of each week. He has 13 weeks of summer in which to mow lawns. (For convenience, assume that the mower and trailer will have no value after Jeff is done with his work this summer.) The discount rate for Jeff is 10% (note that this is an annual rate). What is the Net Present Value of the mower/trailer project?"
   ]
  },
  {
   "cell_type": "markdown",
   "metadata": {},
   "source": [
    "#### Answer options are: $\\$$1,730.88 , $\\$$6,490.29 , $\\$$4,590.29 , $\\$$1,694.30"
   ]
  },
  {
   "cell_type": "code",
   "execution_count": 0,
   "metadata": {
    "collapsed": false
   },
   "outputs": [],
   "source": []
  },
  {
   "cell_type": "markdown",
   "metadata": {},
   "source": [
    "### Question 5"
   ]
  },
  {
   "cell_type": "markdown",
   "metadata": {},
   "source": [
    "#### Da Feng is looking to refinance his home because rates have gone down since he purchased the house 5 years ago. He started with a 30-year fixed-rate mortgage of $\\$$213,000 at an annual rate of 6.70%. He has to make monthly payments. He can now get a 25-year fixed-rate mortgage at an annual rate of 4.10% on the remaining balance of his initial mortgage. This loan also requires monthly payments. In order to re-finance, Da Feng will need to pay closing costs of $\\$$2,300. These costs are out of pocket and cannot be rolled into the new mortgage. How much will refinancing save Da Feng? (i.e. What is the NPV of the refinancing decision?)"
   ]
  },
  {
   "cell_type": "markdown",
   "metadata": {},
   "source": [
    "#### Answer options are: $\\$$57,844.24 , $\\$$124,854.77 , $\\$$56,452.01 , $\\$$55,544.24"
   ]
  },
  {
   "cell_type": "code",
   "execution_count": 0,
   "metadata": {
    "collapsed": false
   },
   "outputs": [],
   "source": []
  },
  {
   "cell_type": "markdown",
   "metadata": {},
   "source": [
    "### Question 6"
   ]
  },
  {
   "cell_type": "markdown",
   "metadata": {},
   "source": [
    "#### The United States purchased Alaska in 1867 for $\\$$7.2M (where M stands for million). Assume that federal tax revenue from the state of Alaska (net federal expenditures) is $\\$$55.1M in 2012 and that tax revenue started in 1868 and has steadily increased by 3% annually since then. Assume that the cost of capital (or interest rate) is 6%. What is the NPV of the Alaska purchase, assuming that you are in 1867 looking forward? (Enter just the number in dollars without the $ sign or a comma and round off decimals.)"
   ]
  },
  {
   "cell_type": "code",
   "execution_count": 0,
   "metadata": {
    "collapsed": false
   },
   "outputs": [],
   "source": []
  },
  {
   "cell_type": "markdown",
   "metadata": {},
   "source": [
    "### Question 7"
   ]
  },
  {
   "cell_type": "markdown",
   "metadata": {},
   "source": [
    "#### This question introduces you to the concept of an annuity with growth. The formulae is given on p.3, equation (7), of the Note on Formulae, but I would encourage you to try doing it in Excel as well. (If the first cash flow is C, the next one will be C(1+g), and so on, where g is the growth rate in cash flow). As an example, the present value of an annuity that starts one year from now at $\\$$100, and grows at 5%, with the last cash flow in year 10, when the discount rate is 7%, is $\\$$860. Confirm this before attempting the problem using both the formula and excel. What is the NPV of of a new software project that costs $\\$$900,000 today, but has a cash flow of $\\$$180,000 in year 1 that grows at 7.0% per year till year 20? Similar investments earn 7.6% per year. (Enter just the number in dollars without the $ sign or a comma and round off decimals.)"
   ]
  },
  {
   "cell_type": "code",
   "execution_count": 0,
   "metadata": {
    "collapsed": false
   },
   "outputs": [],
   "source": []
  },
  {
   "cell_type": "markdown",
   "metadata": {},
   "source": [
    "### Question 8"
   ]
  },
  {
   "cell_type": "markdown",
   "metadata": {},
   "source": [
    "#### Diane has just turned 19 and also completed high school. She is wondering about the value of a college education. She is pretty good with numbers, and driven by financial considerations only, so she sits down to calculate whether it is worth the large sum of money involved. She knows that her first year tuition will be $\\$$13,000, due at the beginning of the year (that is, right away). Based on historical trends she estimates that tuition will rise at 5% per year for the 4 years she is in school. She also estimates that her living expense above and beyond tuition will be $\\$$8,000 per year (assume this occurs at the end of the year) for the first year and will increase $\\$$500 each year thereafter to keep up with inflation. She does not plan to work at all while attending school. Were she to forgo college she would be able to make $\\$$23,000 per year out of high school and expects that to grow 3% annually. With the college degree, she estimates that she will earn $\\$$47,000 per year out of college, again with annual 3% increases in salary. Either way, she plans to work until 64 (she begins college right away). The interest/discount rate is 8%. What is the NPV of her college education? (Note: All cash flows except tuition payments occur at the end of the year.)"
   ]
  },
  {
   "cell_type": "markdown",
   "metadata": {},
   "source": [
    "#### Answer options are $\\$$513,289.82 , $\\$$107,785.74 , $\\$$110,171.52 , $\\$$111,480.05"
   ]
  },
  {
   "cell_type": "code",
   "execution_count": 0,
   "metadata": {
    "collapsed": false
   },
   "outputs": [],
   "source": []
  },
  {
   "cell_type": "markdown",
   "metadata": {},
   "source": [
    "### Question 9"
   ]
  },
  {
   "cell_type": "markdown",
   "metadata": {},
   "source": [
    "#### Rafael owned an apartment building that burned down. The empty lot is worth $\\$$50,000 and Rafael has received $\\$$330,000 from the insurance company. Rafael plans to build another apartment building that will cost $\\$$260,000. His real estate adviser estimates that the expected value of the finished building on the real estate market will be $\\$$355,000 next year. The discount/interest rate is 8%. What are the NPV and IRR of this decision?"
   ]
  },
  {
   "cell_type": "markdown",
   "metadata": {},
   "source": [
    "#### Answer options are $\\$$18,704; 14.52% , -$\\$$18,704; -14.52% , $\\$$68,704; 36.54% ,-$\\$$68,704; -36.54%"
   ]
  },
  {
   "cell_type": "code",
   "execution_count": 0,
   "metadata": {
    "collapsed": false
   },
   "outputs": [],
   "source": []
  },
  {
   "cell_type": "markdown",
   "metadata": {},
   "source": [
    "### Question 10"
   ]
  },
  {
   "cell_type": "markdown",
   "metadata": {},
   "source": [
    "#### Roxanne invested $\\$$700,000 in a new business 4 years ago. The business was expected to bring in $\\$$8,000 each month for the next 34 years (in excess of all costs). The annual cost of capital (or interest rate) for this type of business was 10% with monthly compounding. What is the value of the business today? (Enter just the number in dollars without the $ sign or a comma and round off decimals.)"
   ]
  },
  {
   "cell_type": "code",
   "execution_count": null,
   "metadata": {
    "collapsed": false
   },
   "outputs": [],
   "source": []
  }
 ],
 "metadata": {
  "kernelspec": {
   "display_name": "Python 2",
   "language": "python",
   "name": "python2"
  },
  "language_info": {
   "codemirror_mode": {
    "name": "ipython",
    "version": 2
   },
   "file_extension": ".py",
   "mimetype": "text/x-python",
   "name": "python",
   "nbconvert_exporter": "python",
   "pygments_lexer": "ipython2",
   "version": "2.7.10"
  }
 },
 "nbformat": 4,
 "nbformat_minor": 0
}
